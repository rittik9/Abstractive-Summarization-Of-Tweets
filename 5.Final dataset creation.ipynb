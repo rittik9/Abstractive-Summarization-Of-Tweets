{
 "cells": [
  {
   "cell_type": "code",
   "execution_count": 1,
   "metadata": {},
   "outputs": [],
   "source": [
    "import pandas as pd"
   ]
  },
  {
   "cell_type": "code",
   "execution_count": 39,
   "metadata": {},
   "outputs": [],
   "source": [
    "df = pd.read_csv('sum_data (1).csv')\n",
    "df1 = pd.read_csv('sum007.csv')\n",
    "df2 = pd.read_csv('sum008.csv')\n",
    "df3 = pd.read_csv('sum009.csv')"
   ]
  },
  {
   "cell_type": "code",
   "execution_count": 40,
   "metadata": {},
   "outputs": [
    {
     "data": {
      "text/plain": [
       "pandas.core.series.Series"
      ]
     },
     "execution_count": 40,
     "metadata": {},
     "output_type": "execute_result"
    }
   ],
   "source": [
    "type(df2['c_r_sum'])"
   ]
  },
  {
   "cell_type": "code",
   "execution_count": 41,
   "metadata": {},
   "outputs": [],
   "source": [
    "l1 = df1['c_r_sum'].to_list()\n",
    "l2 = df2['c_r_sum'].to_list()\n",
    "l3 = df3['c_r_sum'].to_list()"
   ]
  },
  {
   "cell_type": "code",
   "execution_count": 42,
   "metadata": {},
   "outputs": [],
   "source": [
    "l = l1+l2+l3"
   ]
  },
  {
   "cell_type": "code",
   "execution_count": 43,
   "metadata": {},
   "outputs": [
    {
     "data": {
      "text/plain": [
       "983"
      ]
     },
     "execution_count": 43,
     "metadata": {},
     "output_type": "execute_result"
    }
   ],
   "source": [
    "len(l)"
   ]
  },
  {
   "cell_type": "code",
   "execution_count": 44,
   "metadata": {},
   "outputs": [],
   "source": [
    "c = df['content'].to_list()"
   ]
  },
  {
   "cell_type": "code",
   "execution_count": 45,
   "metadata": {},
   "outputs": [
    {
     "data": {
      "text/plain": [
       "1000"
      ]
     },
     "execution_count": 45,
     "metadata": {},
     "output_type": "execute_result"
    }
   ],
   "source": [
    "len(c)"
   ]
  },
  {
   "cell_type": "code",
   "execution_count": 46,
   "metadata": {},
   "outputs": [],
   "source": [
    "c = c[0:983]"
   ]
  },
  {
   "cell_type": "code",
   "execution_count": 47,
   "metadata": {},
   "outputs": [
    {
     "data": {
      "text/plain": [
       "983"
      ]
     },
     "execution_count": 47,
     "metadata": {},
     "output_type": "execute_result"
    }
   ],
   "source": [
    "len(c)"
   ]
  },
  {
   "cell_type": "code",
   "execution_count": 48,
   "metadata": {},
   "outputs": [],
   "source": [
    "v = df['topic'].to_list()\n",
    "v = v[0:983]"
   ]
  },
  {
   "cell_type": "code",
   "execution_count": 49,
   "metadata": {},
   "outputs": [],
   "source": [
    "f = []\n",
    "for i in range(983):\n",
    "    t = [v[i],c[i],l[i]]\n",
    "    f.append(t)"
   ]
  },
  {
   "cell_type": "code",
   "execution_count": 50,
   "metadata": {},
   "outputs": [
    {
     "data": {
      "text/plain": [
       "983"
      ]
     },
     "execution_count": 50,
     "metadata": {},
     "output_type": "execute_result"
    }
   ],
   "source": [
    "len(f)"
   ]
  },
  {
   "cell_type": "code",
   "execution_count": 51,
   "metadata": {},
   "outputs": [],
   "source": [
    "final_df = pd.DataFrame(f,columns=[\"topic\",\"content\",'c_summary'])"
   ]
  },
  {
   "cell_type": "code",
   "execution_count": 52,
   "metadata": {},
   "outputs": [
    {
     "data": {
      "text/html": [
       "<div>\n",
       "<style scoped>\n",
       "    .dataframe tbody tr th:only-of-type {\n",
       "        vertical-align: middle;\n",
       "    }\n",
       "\n",
       "    .dataframe tbody tr th {\n",
       "        vertical-align: top;\n",
       "    }\n",
       "\n",
       "    .dataframe thead th {\n",
       "        text-align: right;\n",
       "    }\n",
       "</style>\n",
       "<table border=\"1\" class=\"dataframe\">\n",
       "  <thead>\n",
       "    <tr style=\"text-align: right;\">\n",
       "      <th></th>\n",
       "      <th>topic</th>\n",
       "      <th>content</th>\n",
       "      <th>c_summary</th>\n",
       "    </tr>\n",
       "  </thead>\n",
       "  <tbody>\n",
       "    <tr>\n",
       "      <th>0</th>\n",
       "      <td>#OpenAI</td>\n",
       "      <td>exciting news from openai they have just relea...</td>\n",
       "      <td>chatgpt\\nOpenAI has released their ChatGPT an...</td>\n",
       "    </tr>\n",
       "    <tr>\n",
       "      <th>1</th>\n",
       "      <td>#OpenAI</td>\n",
       "      <td>the first words i typed this morning  git fetc...</td>\n",
       "      <td>\\n\\nThis set of tweets discusses the recent la...</td>\n",
       "    </tr>\n",
       "    <tr>\n",
       "      <th>2</th>\n",
       "      <td>#OpenAI</td>\n",
       "      <td>i morning briefing how are universities dealin...</td>\n",
       "      <td>\\n\\nThis set of tweets is discussing the use o...</td>\n",
       "    </tr>\n",
       "    <tr>\n",
       "      <th>3</th>\n",
       "      <td>#OpenAI</td>\n",
       "      <td>the speed at with microsoft  is executing on o...</td>\n",
       "      <td>\\n\\nThis set of tweets is discussing OpenAI, a...</td>\n",
       "    </tr>\n",
       "    <tr>\n",
       "      <th>4</th>\n",
       "      <td>#OpenAI</td>\n",
       "      <td>openai integration tools for odoo editor are n...</td>\n",
       "      <td>\\n\\nThis set of tweets discusses the integrati...</td>\n",
       "    </tr>\n",
       "    <tr>\n",
       "      <th>...</th>\n",
       "      <td>...</td>\n",
       "      <td>...</td>\n",
       "      <td>...</td>\n",
       "    </tr>\n",
       "    <tr>\n",
       "      <th>978</th>\n",
       "      <td>AI</td>\n",
       "      <td>bentocaipira hahahahahawelcome to the club do ...</td>\n",
       "      <td>This set of tweets discusses the changing perc...</td>\n",
       "    </tr>\n",
       "    <tr>\n",
       "      <th>979</th>\n",
       "      <td>AI</td>\n",
       "      <td>demain live minimum 4h  2 clip twitter car je ...</td>\n",
       "      <td>\\n\\nTomorrow there will be a live stream for a...</td>\n",
       "    </tr>\n",
       "    <tr>\n",
       "      <th>980</th>\n",
       "      <td>AI</td>\n",
       "      <td>a pior coisa faith eu lose meu cartao vt justo...</td>\n",
       "      <td>\\n\\nThis set of tweets discusses a variety of ...</td>\n",
       "    </tr>\n",
       "    <tr>\n",
       "      <th>981</th>\n",
       "      <td>AI</td>\n",
       "      <td>ai se on muuttunu jo noin ovelaksi toi nuha......</td>\n",
       "      <td>\\n\\nThis group of tweets is discussing a varie...</td>\n",
       "    </tr>\n",
       "    <tr>\n",
       "      <th>982</th>\n",
       "      <td>AI</td>\n",
       "      <td>ptn jpeux pas regarder le match j'ai pas bein ...</td>\n",
       "      <td>\\n\\nThis set of tweets talks about various top...</td>\n",
       "    </tr>\n",
       "  </tbody>\n",
       "</table>\n",
       "<p>983 rows × 3 columns</p>\n",
       "</div>"
      ],
      "text/plain": [
       "       topic                                            content  \\\n",
       "0    #OpenAI  exciting news from openai they have just relea...   \n",
       "1    #OpenAI  the first words i typed this morning  git fetc...   \n",
       "2    #OpenAI  i morning briefing how are universities dealin...   \n",
       "3    #OpenAI  the speed at with microsoft  is executing on o...   \n",
       "4    #OpenAI  openai integration tools for odoo editor are n...   \n",
       "..       ...                                                ...   \n",
       "978       AI  bentocaipira hahahahahawelcome to the club do ...   \n",
       "979       AI  demain live minimum 4h  2 clip twitter car je ...   \n",
       "980       AI  a pior coisa faith eu lose meu cartao vt justo...   \n",
       "981       AI  ai se on muuttunu jo noin ovelaksi toi nuha......   \n",
       "982       AI  ptn jpeux pas regarder le match j'ai pas bein ...   \n",
       "\n",
       "                                             c_summary  \n",
       "0     chatgpt\\nOpenAI has released their ChatGPT an...  \n",
       "1    \\n\\nThis set of tweets discusses the recent la...  \n",
       "2    \\n\\nThis set of tweets is discussing the use o...  \n",
       "3    \\n\\nThis set of tweets is discussing OpenAI, a...  \n",
       "4    \\n\\nThis set of tweets discusses the integrati...  \n",
       "..                                                 ...  \n",
       "978  This set of tweets discusses the changing perc...  \n",
       "979  \\n\\nTomorrow there will be a live stream for a...  \n",
       "980  \\n\\nThis set of tweets discusses a variety of ...  \n",
       "981  \\n\\nThis group of tweets is discussing a varie...  \n",
       "982  \\n\\nThis set of tweets talks about various top...  \n",
       "\n",
       "[983 rows x 3 columns]"
      ]
     },
     "execution_count": 52,
     "metadata": {},
     "output_type": "execute_result"
    }
   ],
   "source": [
    "final_df"
   ]
  },
  {
   "cell_type": "code",
   "execution_count": 53,
   "metadata": {},
   "outputs": [],
   "source": [
    "def removen(x):\n",
    "    return x.replace(\"\\n\",\"\")\n",
    "final_df['c_summary'] = final_df['c_summary'].apply(lambda x: removen(x) )"
   ]
  },
  {
   "cell_type": "code",
   "execution_count": 54,
   "metadata": {},
   "outputs": [
    {
     "data": {
      "text/html": [
       "<div>\n",
       "<style scoped>\n",
       "    .dataframe tbody tr th:only-of-type {\n",
       "        vertical-align: middle;\n",
       "    }\n",
       "\n",
       "    .dataframe tbody tr th {\n",
       "        vertical-align: top;\n",
       "    }\n",
       "\n",
       "    .dataframe thead th {\n",
       "        text-align: right;\n",
       "    }\n",
       "</style>\n",
       "<table border=\"1\" class=\"dataframe\">\n",
       "  <thead>\n",
       "    <tr style=\"text-align: right;\">\n",
       "      <th></th>\n",
       "      <th>topic</th>\n",
       "      <th>content</th>\n",
       "      <th>c_summary</th>\n",
       "    </tr>\n",
       "  </thead>\n",
       "  <tbody>\n",
       "    <tr>\n",
       "      <th>0</th>\n",
       "      <td>#OpenAI</td>\n",
       "      <td>exciting news from openai they have just relea...</td>\n",
       "      <td>chatgptOpenAI has released their ChatGPT and ...</td>\n",
       "    </tr>\n",
       "    <tr>\n",
       "      <th>1</th>\n",
       "      <td>#OpenAI</td>\n",
       "      <td>the first words i typed this morning  git fetc...</td>\n",
       "      <td>This set of tweets discusses the recent launch...</td>\n",
       "    </tr>\n",
       "    <tr>\n",
       "      <th>2</th>\n",
       "      <td>#OpenAI</td>\n",
       "      <td>i morning briefing how are universities dealin...</td>\n",
       "      <td>This set of tweets is discussing the use of Op...</td>\n",
       "    </tr>\n",
       "    <tr>\n",
       "      <th>3</th>\n",
       "      <td>#OpenAI</td>\n",
       "      <td>the speed at with microsoft  is executing on o...</td>\n",
       "      <td>This set of tweets is discussing OpenAI, a com...</td>\n",
       "    </tr>\n",
       "    <tr>\n",
       "      <th>4</th>\n",
       "      <td>#OpenAI</td>\n",
       "      <td>openai integration tools for odoo editor are n...</td>\n",
       "      <td>This set of tweets discusses the integration o...</td>\n",
       "    </tr>\n",
       "    <tr>\n",
       "      <th>...</th>\n",
       "      <td>...</td>\n",
       "      <td>...</td>\n",
       "      <td>...</td>\n",
       "    </tr>\n",
       "    <tr>\n",
       "      <th>978</th>\n",
       "      <td>AI</td>\n",
       "      <td>bentocaipira hahahahahawelcome to the club do ...</td>\n",
       "      <td>This set of tweets discusses the changing perc...</td>\n",
       "    </tr>\n",
       "    <tr>\n",
       "      <th>979</th>\n",
       "      <td>AI</td>\n",
       "      <td>demain live minimum 4h  2 clip twitter car je ...</td>\n",
       "      <td>Tomorrow there will be a live stream for at le...</td>\n",
       "    </tr>\n",
       "    <tr>\n",
       "      <th>980</th>\n",
       "      <td>AI</td>\n",
       "      <td>a pior coisa faith eu lose meu cartao vt justo...</td>\n",
       "      <td>This set of tweets discusses a variety of topi...</td>\n",
       "    </tr>\n",
       "    <tr>\n",
       "      <th>981</th>\n",
       "      <td>AI</td>\n",
       "      <td>ai se on muuttunu jo noin ovelaksi toi nuha......</td>\n",
       "      <td>This group of tweets is discussing a variety o...</td>\n",
       "    </tr>\n",
       "    <tr>\n",
       "      <th>982</th>\n",
       "      <td>AI</td>\n",
       "      <td>ptn jpeux pas regarder le match j'ai pas bein ...</td>\n",
       "      <td>This set of tweets talks about various topics,...</td>\n",
       "    </tr>\n",
       "  </tbody>\n",
       "</table>\n",
       "<p>983 rows × 3 columns</p>\n",
       "</div>"
      ],
      "text/plain": [
       "       topic                                            content  \\\n",
       "0    #OpenAI  exciting news from openai they have just relea...   \n",
       "1    #OpenAI  the first words i typed this morning  git fetc...   \n",
       "2    #OpenAI  i morning briefing how are universities dealin...   \n",
       "3    #OpenAI  the speed at with microsoft  is executing on o...   \n",
       "4    #OpenAI  openai integration tools for odoo editor are n...   \n",
       "..       ...                                                ...   \n",
       "978       AI  bentocaipira hahahahahawelcome to the club do ...   \n",
       "979       AI  demain live minimum 4h  2 clip twitter car je ...   \n",
       "980       AI  a pior coisa faith eu lose meu cartao vt justo...   \n",
       "981       AI  ai se on muuttunu jo noin ovelaksi toi nuha......   \n",
       "982       AI  ptn jpeux pas regarder le match j'ai pas bein ...   \n",
       "\n",
       "                                             c_summary  \n",
       "0     chatgptOpenAI has released their ChatGPT and ...  \n",
       "1    This set of tweets discusses the recent launch...  \n",
       "2    This set of tweets is discussing the use of Op...  \n",
       "3    This set of tweets is discussing OpenAI, a com...  \n",
       "4    This set of tweets discusses the integration o...  \n",
       "..                                                 ...  \n",
       "978  This set of tweets discusses the changing perc...  \n",
       "979  Tomorrow there will be a live stream for at le...  \n",
       "980  This set of tweets discusses a variety of topi...  \n",
       "981  This group of tweets is discussing a variety o...  \n",
       "982  This set of tweets talks about various topics,...  \n",
       "\n",
       "[983 rows x 3 columns]"
      ]
     },
     "execution_count": 54,
     "metadata": {},
     "output_type": "execute_result"
    }
   ],
   "source": [
    "final_df"
   ]
  },
  {
   "cell_type": "code",
   "execution_count": 55,
   "metadata": {},
   "outputs": [],
   "source": [
    "final_df.to_csv(\"final_data.csv\")"
   ]
  },
  {
   "cell_type": "code",
   "execution_count": 3,
   "metadata": {},
   "outputs": [],
   "source": [
    "out_df = pd.read_csv('tweetsum_train.csv')\n",
    "in_df = pd.read_csv('final_data.csv')\n",
    "val_df = pd.read_csv('tweetsum_valid.csv')"
   ]
  },
  {
   "cell_type": "code",
   "execution_count": 57,
   "metadata": {},
   "outputs": [
    {
     "data": {
      "text/html": [
       "<div>\n",
       "<style scoped>\n",
       "    .dataframe tbody tr th:only-of-type {\n",
       "        vertical-align: middle;\n",
       "    }\n",
       "\n",
       "    .dataframe tbody tr th {\n",
       "        vertical-align: top;\n",
       "    }\n",
       "\n",
       "    .dataframe thead th {\n",
       "        text-align: right;\n",
       "    }\n",
       "</style>\n",
       "<table border=\"1\" class=\"dataframe\">\n",
       "  <thead>\n",
       "    <tr style=\"text-align: right;\">\n",
       "      <th></th>\n",
       "      <th>inputs</th>\n",
       "      <th>summaries</th>\n",
       "    </tr>\n",
       "  </thead>\n",
       "  <tbody>\n",
       "    <tr>\n",
       "      <th>0</th>\n",
       "      <td>So neither my iPhone nor my Apple Watch are re...</td>\n",
       "      <td>Customer enquired about his Iphone and Apple w...</td>\n",
       "    </tr>\n",
       "    <tr>\n",
       "      <th>1</th>\n",
       "      <td>AskAmex Where do I write to address a customer...</td>\n",
       "      <td>Signed up for an AmexCard with Delta but it di...</td>\n",
       "    </tr>\n",
       "    <tr>\n",
       "      <th>2</th>\n",
       "      <td>AmazonHelp Wow, expected 4 packages yesterday,...</td>\n",
       "      <td>The customer have a problem. The agent is very...</td>\n",
       "    </tr>\n",
       "    <tr>\n",
       "      <th>3</th>\n",
       "      <td>GWRHelp Id rather you spent some time making y...</td>\n",
       "      <td>Customer cannot purchase a train ticket on the...</td>\n",
       "    </tr>\n",
       "    <tr>\n",
       "      <th>4</th>\n",
       "      <td>AirAsiaSupport doesnt seem like a customers t...</td>\n",
       "      <td>The client is visibly upset with the service. ...</td>\n",
       "    </tr>\n",
       "    <tr>\n",
       "      <th>...</th>\n",
       "      <td>...</td>\n",
       "      <td>...</td>\n",
       "    </tr>\n",
       "    <tr>\n",
       "      <th>864</th>\n",
       "      <td>Hi John, could you please follow us as this a...</td>\n",
       "      <td>Customer is  enquiring about returing an item....</td>\n",
       "    </tr>\n",
       "    <tr>\n",
       "      <th>865</th>\n",
       "      <td>Tesco Yet again I am here for my appointment. ...</td>\n",
       "      <td>Customer is complaining that Opticians are not...</td>\n",
       "    </tr>\n",
       "    <tr>\n",
       "      <th>866</th>\n",
       "      <td>O2 Your PAYG SIM ordering page is broken, fill...</td>\n",
       "      <td>Customer is complaining about the issue with f...</td>\n",
       "    </tr>\n",
       "    <tr>\n",
       "      <th>867</th>\n",
       "      <td>NortonSupport How do I remove expired subs fro...</td>\n",
       "      <td>Customer is asking how to remove expired subs ...</td>\n",
       "    </tr>\n",
       "    <tr>\n",
       "      <th>868</th>\n",
       "      <td>Im done! wellsfargo has horrible customer serv...</td>\n",
       "      <td>The Customer is complaining about the service ...</td>\n",
       "    </tr>\n",
       "  </tbody>\n",
       "</table>\n",
       "<p>869 rows × 2 columns</p>\n",
       "</div>"
      ],
      "text/plain": [
       "                                                inputs  \\\n",
       "0    So neither my iPhone nor my Apple Watch are re...   \n",
       "1    AskAmex Where do I write to address a customer...   \n",
       "2    AmazonHelp Wow, expected 4 packages yesterday,...   \n",
       "3    GWRHelp Id rather you spent some time making y...   \n",
       "4     AirAsiaSupport doesnt seem like a customers t...   \n",
       "..                                                 ...   \n",
       "864   Hi John, could you please follow us as this a...   \n",
       "865  Tesco Yet again I am here for my appointment. ...   \n",
       "866  O2 Your PAYG SIM ordering page is broken, fill...   \n",
       "867  NortonSupport How do I remove expired subs fro...   \n",
       "868  Im done! wellsfargo has horrible customer serv...   \n",
       "\n",
       "                                             summaries  \n",
       "0    Customer enquired about his Iphone and Apple w...  \n",
       "1    Signed up for an AmexCard with Delta but it di...  \n",
       "2    The customer have a problem. The agent is very...  \n",
       "3    Customer cannot purchase a train ticket on the...  \n",
       "4    The client is visibly upset with the service. ...  \n",
       "..                                                 ...  \n",
       "864  Customer is  enquiring about returing an item....  \n",
       "865  Customer is complaining that Opticians are not...  \n",
       "866  Customer is complaining about the issue with f...  \n",
       "867  Customer is asking how to remove expired subs ...  \n",
       "868  The Customer is complaining about the service ...  \n",
       "\n",
       "[869 rows x 2 columns]"
      ]
     },
     "execution_count": 57,
     "metadata": {},
     "output_type": "execute_result"
    }
   ],
   "source": [
    "out_df"
   ]
  },
  {
   "cell_type": "code",
   "execution_count": 4,
   "metadata": {},
   "outputs": [
    {
     "data": {
      "text/html": [
       "<div>\n",
       "<style scoped>\n",
       "    .dataframe tbody tr th:only-of-type {\n",
       "        vertical-align: middle;\n",
       "    }\n",
       "\n",
       "    .dataframe tbody tr th {\n",
       "        vertical-align: top;\n",
       "    }\n",
       "\n",
       "    .dataframe thead th {\n",
       "        text-align: right;\n",
       "    }\n",
       "</style>\n",
       "<table border=\"1\" class=\"dataframe\">\n",
       "  <thead>\n",
       "    <tr style=\"text-align: right;\">\n",
       "      <th></th>\n",
       "      <th>Unnamed: 0</th>\n",
       "      <th>topic</th>\n",
       "      <th>content</th>\n",
       "      <th>c_summary</th>\n",
       "    </tr>\n",
       "  </thead>\n",
       "  <tbody>\n",
       "    <tr>\n",
       "      <th>0</th>\n",
       "      <td>0</td>\n",
       "      <td>#OpenAI</td>\n",
       "      <td>exciting news from openai they have just relea...</td>\n",
       "      <td>chatgptOpenAI has released their ChatGPT and ...</td>\n",
       "    </tr>\n",
       "    <tr>\n",
       "      <th>1</th>\n",
       "      <td>1</td>\n",
       "      <td>#OpenAI</td>\n",
       "      <td>the first words i typed this morning  git fetc...</td>\n",
       "      <td>This set of tweets discusses the recent launch...</td>\n",
       "    </tr>\n",
       "    <tr>\n",
       "      <th>2</th>\n",
       "      <td>2</td>\n",
       "      <td>#OpenAI</td>\n",
       "      <td>i morning briefing how are universities dealin...</td>\n",
       "      <td>This set of tweets is discussing the use of Op...</td>\n",
       "    </tr>\n",
       "    <tr>\n",
       "      <th>3</th>\n",
       "      <td>3</td>\n",
       "      <td>#OpenAI</td>\n",
       "      <td>the speed at with microsoft  is executing on o...</td>\n",
       "      <td>This set of tweets is discussing OpenAI, a com...</td>\n",
       "    </tr>\n",
       "    <tr>\n",
       "      <th>4</th>\n",
       "      <td>4</td>\n",
       "      <td>#OpenAI</td>\n",
       "      <td>openai integration tools for odoo editor are n...</td>\n",
       "      <td>This set of tweets discusses the integration o...</td>\n",
       "    </tr>\n",
       "    <tr>\n",
       "      <th>...</th>\n",
       "      <td>...</td>\n",
       "      <td>...</td>\n",
       "      <td>...</td>\n",
       "      <td>...</td>\n",
       "    </tr>\n",
       "    <tr>\n",
       "      <th>978</th>\n",
       "      <td>978</td>\n",
       "      <td>AI</td>\n",
       "      <td>bentocaipira hahahahahawelcome to the club do ...</td>\n",
       "      <td>This set of tweets discusses the changing perc...</td>\n",
       "    </tr>\n",
       "    <tr>\n",
       "      <th>979</th>\n",
       "      <td>979</td>\n",
       "      <td>AI</td>\n",
       "      <td>demain live minimum 4h  2 clip twitter car je ...</td>\n",
       "      <td>Tomorrow there will be a live stream for at le...</td>\n",
       "    </tr>\n",
       "    <tr>\n",
       "      <th>980</th>\n",
       "      <td>980</td>\n",
       "      <td>AI</td>\n",
       "      <td>a pior coisa faith eu lose meu cartao vt justo...</td>\n",
       "      <td>This set of tweets discusses a variety of topi...</td>\n",
       "    </tr>\n",
       "    <tr>\n",
       "      <th>981</th>\n",
       "      <td>981</td>\n",
       "      <td>AI</td>\n",
       "      <td>ai se on muuttunu jo noin ovelaksi toi nuha......</td>\n",
       "      <td>This group of tweets is discussing a variety o...</td>\n",
       "    </tr>\n",
       "    <tr>\n",
       "      <th>982</th>\n",
       "      <td>982</td>\n",
       "      <td>AI</td>\n",
       "      <td>ptn jpeux pas regarder le match j'ai pas bein ...</td>\n",
       "      <td>This set of tweets talks about various topics,...</td>\n",
       "    </tr>\n",
       "  </tbody>\n",
       "</table>\n",
       "<p>983 rows × 4 columns</p>\n",
       "</div>"
      ],
      "text/plain": [
       "     Unnamed: 0    topic                                            content  \\\n",
       "0             0  #OpenAI  exciting news from openai they have just relea...   \n",
       "1             1  #OpenAI  the first words i typed this morning  git fetc...   \n",
       "2             2  #OpenAI  i morning briefing how are universities dealin...   \n",
       "3             3  #OpenAI  the speed at with microsoft  is executing on o...   \n",
       "4             4  #OpenAI  openai integration tools for odoo editor are n...   \n",
       "..          ...      ...                                                ...   \n",
       "978         978       AI  bentocaipira hahahahahawelcome to the club do ...   \n",
       "979         979       AI  demain live minimum 4h  2 clip twitter car je ...   \n",
       "980         980       AI  a pior coisa faith eu lose meu cartao vt justo...   \n",
       "981         981       AI  ai se on muuttunu jo noin ovelaksi toi nuha......   \n",
       "982         982       AI  ptn jpeux pas regarder le match j'ai pas bein ...   \n",
       "\n",
       "                                             c_summary  \n",
       "0     chatgptOpenAI has released their ChatGPT and ...  \n",
       "1    This set of tweets discusses the recent launch...  \n",
       "2    This set of tweets is discussing the use of Op...  \n",
       "3    This set of tweets is discussing OpenAI, a com...  \n",
       "4    This set of tweets discusses the integration o...  \n",
       "..                                                 ...  \n",
       "978  This set of tweets discusses the changing perc...  \n",
       "979  Tomorrow there will be a live stream for at le...  \n",
       "980  This set of tweets discusses a variety of topi...  \n",
       "981  This group of tweets is discussing a variety o...  \n",
       "982  This set of tweets talks about various topics,...  \n",
       "\n",
       "[983 rows x 4 columns]"
      ]
     },
     "execution_count": 4,
     "metadata": {},
     "output_type": "execute_result"
    }
   ],
   "source": [
    "in_df"
   ]
  },
  {
   "cell_type": "code",
   "execution_count": 5,
   "metadata": {},
   "outputs": [
    {
     "data": {
      "text/html": [
       "<div>\n",
       "<style scoped>\n",
       "    .dataframe tbody tr th:only-of-type {\n",
       "        vertical-align: middle;\n",
       "    }\n",
       "\n",
       "    .dataframe tbody tr th {\n",
       "        vertical-align: top;\n",
       "    }\n",
       "\n",
       "    .dataframe thead th {\n",
       "        text-align: right;\n",
       "    }\n",
       "</style>\n",
       "<table border=\"1\" class=\"dataframe\">\n",
       "  <thead>\n",
       "    <tr style=\"text-align: right;\">\n",
       "      <th></th>\n",
       "      <th>inputs</th>\n",
       "      <th>summaries</th>\n",
       "    </tr>\n",
       "  </thead>\n",
       "  <tbody>\n",
       "    <tr>\n",
       "      <th>0</th>\n",
       "      <td>SpotifyCares hey, any explanation why the Crea...</td>\n",
       "      <td>Customer is complaining about unable to create...</td>\n",
       "    </tr>\n",
       "    <tr>\n",
       "      <th>1</th>\n",
       "      <td>GWRHelp 1st class WiFi is slower then dial up....</td>\n",
       "      <td>Customer is complaining about the slow wifi co...</td>\n",
       "    </tr>\n",
       "    <tr>\n",
       "      <th>2</th>\n",
       "      <td>UberSupport I was just charged 1 for no reaso...</td>\n",
       "      <td>Customer is complaining about charged 1$ for n...</td>\n",
       "    </tr>\n",
       "    <tr>\n",
       "      <th>3</th>\n",
       "      <td>when you say click the banner for 30 minutes ...</td>\n",
       "      <td>The customer says spotify followed up by thank...</td>\n",
       "    </tr>\n",
       "    <tr>\n",
       "      <th>4</th>\n",
       "      <td>Have to stop using Tigo Ghana for my Internet ...</td>\n",
       "      <td>The customer is complaining that his internet ...</td>\n",
       "    </tr>\n",
       "    <tr>\n",
       "      <th>...</th>\n",
       "      <td>...</td>\n",
       "      <td>...</td>\n",
       "    </tr>\n",
       "    <tr>\n",
       "      <th>103</th>\n",
       "      <td>Delta lying to the cstmrs like usual. Force me...</td>\n",
       "      <td>Customer is complaining about bag check and as...</td>\n",
       "    </tr>\n",
       "    <tr>\n",
       "      <th>104</th>\n",
       "      <td>Hi SpotifyCares, any chance this may become a ...</td>\n",
       "      <td>The customer is complaining that he can't cros...</td>\n",
       "    </tr>\n",
       "    <tr>\n",
       "      <th>105</th>\n",
       "      <td>Come on O2 fix your connection with Carphone W...</td>\n",
       "      <td>Customer is having an issue with the connectio...</td>\n",
       "    </tr>\n",
       "    <tr>\n",
       "      <th>106</th>\n",
       "      <td>Raise your hand if you think VerizonSupport is...</td>\n",
       "      <td>Customer having am issue with internet  as his...</td>\n",
       "    </tr>\n",
       "    <tr>\n",
       "      <th>107</th>\n",
       "      <td>hi. message on bottom right of screen says fi...</td>\n",
       "      <td>Customer is having an issue with message on bo...</td>\n",
       "    </tr>\n",
       "  </tbody>\n",
       "</table>\n",
       "<p>108 rows × 2 columns</p>\n",
       "</div>"
      ],
      "text/plain": [
       "                                                inputs  \\\n",
       "0    SpotifyCares hey, any explanation why the Crea...   \n",
       "1    GWRHelp 1st class WiFi is slower then dial up....   \n",
       "2     UberSupport I was just charged 1 for no reaso...   \n",
       "3     when you say click the banner for 30 minutes ...   \n",
       "4    Have to stop using Tigo Ghana for my Internet ...   \n",
       "..                                                 ...   \n",
       "103  Delta lying to the cstmrs like usual. Force me...   \n",
       "104  Hi SpotifyCares, any chance this may become a ...   \n",
       "105  Come on O2 fix your connection with Carphone W...   \n",
       "106  Raise your hand if you think VerizonSupport is...   \n",
       "107   hi. message on bottom right of screen says fi...   \n",
       "\n",
       "                                             summaries  \n",
       "0    Customer is complaining about unable to create...  \n",
       "1    Customer is complaining about the slow wifi co...  \n",
       "2    Customer is complaining about charged 1$ for n...  \n",
       "3    The customer says spotify followed up by thank...  \n",
       "4    The customer is complaining that his internet ...  \n",
       "..                                                 ...  \n",
       "103  Customer is complaining about bag check and as...  \n",
       "104  The customer is complaining that he can't cros...  \n",
       "105  Customer is having an issue with the connectio...  \n",
       "106  Customer having am issue with internet  as his...  \n",
       "107  Customer is having an issue with message on bo...  \n",
       "\n",
       "[108 rows x 2 columns]"
      ]
     },
     "execution_count": 5,
     "metadata": {},
     "output_type": "execute_result"
    }
   ],
   "source": [
    "val_df"
   ]
  },
  {
   "cell_type": "code",
   "execution_count": 25,
   "metadata": {},
   "outputs": [],
   "source": [
    "l1 = out_df['inputs'].to_list()\n",
    "l2 = in_df['content'].to_list()\n",
    "l3 = val_df['inputs'].to_list()"
   ]
  },
  {
   "cell_type": "code",
   "execution_count": 26,
   "metadata": {},
   "outputs": [],
   "source": [
    "l = l2+l1+l3"
   ]
  },
  {
   "cell_type": "code",
   "execution_count": 27,
   "metadata": {},
   "outputs": [
    {
     "data": {
      "text/plain": [
       "1960"
      ]
     },
     "execution_count": 27,
     "metadata": {},
     "output_type": "execute_result"
    }
   ],
   "source": [
    "len(l)"
   ]
  },
  {
   "cell_type": "code",
   "execution_count": 28,
   "metadata": {},
   "outputs": [],
   "source": [
    "s1 = out_df['summaries'].to_list()\n",
    "s2 = in_df['c_summary'].to_list()\n",
    "s3 = val_df['summaries'].to_list()"
   ]
  },
  {
   "cell_type": "code",
   "execution_count": 29,
   "metadata": {},
   "outputs": [],
   "source": [
    "s = s2+s1+s3"
   ]
  },
  {
   "cell_type": "code",
   "execution_count": 30,
   "metadata": {},
   "outputs": [
    {
     "data": {
      "text/plain": [
       "1960"
      ]
     },
     "execution_count": 30,
     "metadata": {},
     "output_type": "execute_result"
    }
   ],
   "source": [
    "len(s)"
   ]
  },
  {
   "cell_type": "code",
   "execution_count": 31,
   "metadata": {},
   "outputs": [],
   "source": [
    "f = []\n",
    "for i in range(1960):\n",
    "    t = [l[i],s[i]]\n",
    "    f.append(t)"
   ]
  },
  {
   "cell_type": "code",
   "execution_count": 32,
   "metadata": {},
   "outputs": [],
   "source": [
    "f_df = pd.DataFrame(f,columns=[\"content\",'c_summary'])"
   ]
  },
  {
   "cell_type": "code",
   "execution_count": 33,
   "metadata": {},
   "outputs": [
    {
     "data": {
      "text/html": [
       "<div>\n",
       "<style scoped>\n",
       "    .dataframe tbody tr th:only-of-type {\n",
       "        vertical-align: middle;\n",
       "    }\n",
       "\n",
       "    .dataframe tbody tr th {\n",
       "        vertical-align: top;\n",
       "    }\n",
       "\n",
       "    .dataframe thead th {\n",
       "        text-align: right;\n",
       "    }\n",
       "</style>\n",
       "<table border=\"1\" class=\"dataframe\">\n",
       "  <thead>\n",
       "    <tr style=\"text-align: right;\">\n",
       "      <th></th>\n",
       "      <th>content</th>\n",
       "      <th>c_summary</th>\n",
       "    </tr>\n",
       "  </thead>\n",
       "  <tbody>\n",
       "    <tr>\n",
       "      <th>0</th>\n",
       "      <td>exciting news from openai they have just relea...</td>\n",
       "      <td>chatgptOpenAI has released their ChatGPT and ...</td>\n",
       "    </tr>\n",
       "    <tr>\n",
       "      <th>1</th>\n",
       "      <td>the first words i typed this morning  git fetc...</td>\n",
       "      <td>This set of tweets discusses the recent launch...</td>\n",
       "    </tr>\n",
       "    <tr>\n",
       "      <th>2</th>\n",
       "      <td>i morning briefing how are universities dealin...</td>\n",
       "      <td>This set of tweets is discussing the use of Op...</td>\n",
       "    </tr>\n",
       "    <tr>\n",
       "      <th>3</th>\n",
       "      <td>the speed at with microsoft  is executing on o...</td>\n",
       "      <td>This set of tweets is discussing OpenAI, a com...</td>\n",
       "    </tr>\n",
       "    <tr>\n",
       "      <th>4</th>\n",
       "      <td>openai integration tools for odoo editor are n...</td>\n",
       "      <td>This set of tweets discusses the integration o...</td>\n",
       "    </tr>\n",
       "    <tr>\n",
       "      <th>...</th>\n",
       "      <td>...</td>\n",
       "      <td>...</td>\n",
       "    </tr>\n",
       "    <tr>\n",
       "      <th>1955</th>\n",
       "      <td>Delta lying to the cstmrs like usual. Force me...</td>\n",
       "      <td>Customer is complaining about bag check and as...</td>\n",
       "    </tr>\n",
       "    <tr>\n",
       "      <th>1956</th>\n",
       "      <td>Hi SpotifyCares, any chance this may become a ...</td>\n",
       "      <td>The customer is complaining that he can't cros...</td>\n",
       "    </tr>\n",
       "    <tr>\n",
       "      <th>1957</th>\n",
       "      <td>Come on O2 fix your connection with Carphone W...</td>\n",
       "      <td>Customer is having an issue with the connectio...</td>\n",
       "    </tr>\n",
       "    <tr>\n",
       "      <th>1958</th>\n",
       "      <td>Raise your hand if you think VerizonSupport is...</td>\n",
       "      <td>Customer having am issue with internet  as his...</td>\n",
       "    </tr>\n",
       "    <tr>\n",
       "      <th>1959</th>\n",
       "      <td>hi. message on bottom right of screen says fi...</td>\n",
       "      <td>Customer is having an issue with message on bo...</td>\n",
       "    </tr>\n",
       "  </tbody>\n",
       "</table>\n",
       "<p>1960 rows × 2 columns</p>\n",
       "</div>"
      ],
      "text/plain": [
       "                                                content  \\\n",
       "0     exciting news from openai they have just relea...   \n",
       "1     the first words i typed this morning  git fetc...   \n",
       "2     i morning briefing how are universities dealin...   \n",
       "3     the speed at with microsoft  is executing on o...   \n",
       "4     openai integration tools for odoo editor are n...   \n",
       "...                                                 ...   \n",
       "1955  Delta lying to the cstmrs like usual. Force me...   \n",
       "1956  Hi SpotifyCares, any chance this may become a ...   \n",
       "1957  Come on O2 fix your connection with Carphone W...   \n",
       "1958  Raise your hand if you think VerizonSupport is...   \n",
       "1959   hi. message on bottom right of screen says fi...   \n",
       "\n",
       "                                              c_summary  \n",
       "0      chatgptOpenAI has released their ChatGPT and ...  \n",
       "1     This set of tweets discusses the recent launch...  \n",
       "2     This set of tweets is discussing the use of Op...  \n",
       "3     This set of tweets is discussing OpenAI, a com...  \n",
       "4     This set of tweets discusses the integration o...  \n",
       "...                                                 ...  \n",
       "1955  Customer is complaining about bag check and as...  \n",
       "1956  The customer is complaining that he can't cros...  \n",
       "1957  Customer is having an issue with the connectio...  \n",
       "1958  Customer having am issue with internet  as his...  \n",
       "1959  Customer is having an issue with message on bo...  \n",
       "\n",
       "[1960 rows x 2 columns]"
      ]
     },
     "execution_count": 33,
     "metadata": {},
     "output_type": "execute_result"
    }
   ],
   "source": [
    "f_df"
   ]
  },
  {
   "cell_type": "code",
   "execution_count": 34,
   "metadata": {},
   "outputs": [],
   "source": [
    "f_df.to_csv(\"NLP.csv\")"
   ]
  }
 ],
 "metadata": {
  "kernelspec": {
   "display_name": "Project_env",
   "language": "python",
   "name": "python3"
  },
  "language_info": {
   "codemirror_mode": {
    "name": "ipython",
    "version": 3
   },
   "file_extension": ".py",
   "mimetype": "text/x-python",
   "name": "python",
   "nbconvert_exporter": "python",
   "pygments_lexer": "ipython3",
   "version": "3.9.15"
  },
  "orig_nbformat": 4
 },
 "nbformat": 4,
 "nbformat_minor": 2
}
