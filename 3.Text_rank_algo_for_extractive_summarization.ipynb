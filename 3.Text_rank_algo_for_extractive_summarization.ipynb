{
  "nbformat": 4,
  "nbformat_minor": 0,
  "metadata": {
    "colab": {
      "provenance": []
    },
    "kernelspec": {
      "name": "python3",
      "display_name": "Python 3"
    },
    "language_info": {
      "name": "python"
    }
  },
  "cells": [
    {
      "cell_type": "markdown",
      "source": [
        "Using Gensim"
      ],
      "metadata": {
        "id": "D4R0gVWK_-fG"
      }
    },
    {
      "cell_type": "code",
      "execution_count": null,
      "metadata": {
        "colab": {
          "base_uri": "https://localhost:8080/"
        },
        "id": "621s9sIiXTpD",
        "outputId": "2ebf4b9f-fce9-41d9-f537-e2e5febd0193"
      },
      "outputs": [
        {
          "output_type": "stream",
          "name": "stdout",
          "text": [
            "Looking in indexes: https://pypi.org/simple, https://us-python.pkg.dev/colab-wheels/public/simple/\n",
            "Requirement already satisfied: gensim in /usr/local/lib/python3.8/dist-packages (3.6.0)\n",
            "Requirement already satisfied: scipy>=0.18.1 in /usr/local/lib/python3.8/dist-packages (from gensim) (1.7.3)\n",
            "Requirement already satisfied: smart-open>=1.2.1 in /usr/local/lib/python3.8/dist-packages (from gensim) (6.3.0)\n",
            "Requirement already satisfied: six>=1.5.0 in /usr/local/lib/python3.8/dist-packages (from gensim) (1.15.0)\n",
            "Requirement already satisfied: numpy>=1.11.3 in /usr/local/lib/python3.8/dist-packages (from gensim) (1.22.4)\n"
          ]
        }
      ],
      "source": [
        "!pip install gensim"
      ]
    },
    {
      "cell_type": "code",
      "source": [
        "from gensim.summarization.summarizer import summarize\n",
        "from gensim.summarization import keywords"
      ],
      "metadata": {
        "id": "B11DgWHkXaDL"
      },
      "execution_count": null,
      "outputs": []
    },
    {
      "cell_type": "code",
      "source": [
        "#Gensim text rank summarization\n",
        "text = \"Cyclone Dumazile was a strong tropical cyclone in the South-West Indian Ocean that affected Madagascar and Réunion in early March 2018. Dumazile originated from a low-pressure area that formed near Agaléga on 27 February. It became a tropical disturbance on 2 March, and was named the next day after attaining tropical storm status. Dumazile reached its peak intensity on 5 March, with 10-minute sustained winds of 165 km/h (105 mph), 1-minute sustained winds of 205 km/h (125 mph), and a central atmospheric pressure of 945 hPa (27.91 inHg). As it tracked southeastwards, Dumazile weakened steadily over the next couple of days due to wind shear, and became a post-tropical cyclone on 7 March before completely dissipating on 10 March. Dumazile dropped torrential rainfall in Réunion and Madagascar—reaching 1,600 mm (63 in) in Salazie and 210 mm (8.3 in) in northeastern Madagascar—causing widespread flooding and damaging crops and infrastructure. Two deaths were caused by Dumazile, both in Madagascar.\""
      ],
      "metadata": {
        "id": "puEEctabXh6I"
      },
      "execution_count": null,
      "outputs": []
    },
    {
      "cell_type": "code",
      "source": [
        "print(summarize(text, ratio=0.5))"
      ],
      "metadata": {
        "colab": {
          "base_uri": "https://localhost:8080/"
        },
        "id": "c3bP59XaX0G6",
        "outputId": "bb212cbb-71b2-43c8-9b7e-e0b7946243af"
      },
      "execution_count": null,
      "outputs": [
        {
          "output_type": "stream",
          "name": "stderr",
          "text": [
            "WARNING:gensim.summarization.summarizer:Input text is expected to have at least 10 sentences.\n",
            "WARNING:gensim.summarization.summarizer:Input corpus is expected to have at least 10 documents.\n"
          ]
        },
        {
          "output_type": "stream",
          "name": "stdout",
          "text": [
            "Cyclone Dumazile was a strong tropical cyclone in the South-West Indian Ocean that affected Madagascar and Réunion in early March 2018.\n",
            "As it tracked southeastwards, Dumazile weakened steadily over the next couple of days due to wind shear, and became a post-tropical cyclone on 7 March before completely dissipating on 10 March.\n",
            "Two deaths were caused by Dumazile, both in Madagascar.\n"
          ]
        }
      ]
    },
    {
      "cell_type": "markdown",
      "source": [
        "Text_Rank Summarization with NLTK"
      ],
      "metadata": {
        "id": "9zBR4iA9ZTY7"
      }
    },
    {
      "cell_type": "markdown",
      "source": [
        "TextRank is a graph-based algorithm for keyword extraction and text summarization. The algorithm is based on the PageRank algorithm used by Google to rank web pages in their search engine. Here are the steps to implement TextRank algorithm using NLTK in Python:"
      ],
      "metadata": {
        "id": "_kWUQZneaDzP"
      }
    },
    {
      "cell_type": "code",
      "source": [
        "!pip install nltk"
      ],
      "metadata": {
        "colab": {
          "base_uri": "https://localhost:8080/"
        },
        "id": "BYZYGWaCbKvO",
        "outputId": "9c71ad23-3208-4225-89f2-0843db173425"
      },
      "execution_count": null,
      "outputs": [
        {
          "output_type": "stream",
          "name": "stdout",
          "text": [
            "Looking in indexes: https://pypi.org/simple, https://us-python.pkg.dev/colab-wheels/public/simple/\n",
            "Requirement already satisfied: nltk in /usr/local/lib/python3.8/dist-packages (3.7)\n",
            "Requirement already satisfied: regex>=2021.8.3 in /usr/local/lib/python3.8/dist-packages (from nltk) (2022.6.2)\n",
            "Requirement already satisfied: click in /usr/local/lib/python3.8/dist-packages (from nltk) (8.1.3)\n",
            "Requirement already satisfied: tqdm in /usr/local/lib/python3.8/dist-packages (from nltk) (4.64.1)\n",
            "Requirement already satisfied: joblib in /usr/local/lib/python3.8/dist-packages (from nltk) (1.2.0)\n"
          ]
        }
      ]
    },
    {
      "cell_type": "code",
      "source": [
        "import nltk\n",
        "from nltk.tokenize import sent_tokenize, word_tokenize\n",
        "from nltk.corpus import stopwords\n",
        "from nltk.stem import WordNetLemmatizer\n",
        "from string import punctuation\n",
        "from collections import defaultdict"
      ],
      "metadata": {
        "id": "Qtk-eNuAYB6H"
      },
      "execution_count": null,
      "outputs": []
    },
    {
      "cell_type": "code",
      "source": [
        "text = \"Cyclone Dumazile was a strong tropical cyclone in the South-West Indian Ocean that affected Madagascar and Réunion in early March 2018. Dumazile originated from a low-pressure area that formed near Agaléga on 27 February. It became a tropical disturbance on 2 March, and was named the next day after attaining tropical storm status. Dumazile reached its peak intensity on 5 March, with 10-minute sustained winds of 165 km/h (105 mph), 1-minute sustained winds of 205 km/h (125 mph), and a central atmospheric pressure of 945 hPa (27.91 inHg). As it tracked southeastwards, Dumazile weakened steadily over the next couple of days due to wind shear, and became a post-tropical cyclone on 7 March before completely dissipating on 10 March. Dumazile dropped torrential rainfall in Réunion and Madagascar—reaching 1,600 mm (63 in) in Salazie and 210 mm (8.3 in) in northeastern Madagascar—causing widespread flooding and damaging crops and infrastructure. Two deaths were caused by Dumazile, both in Madagascar.\""
      ],
      "metadata": {
        "id": "D3C0XEf4aI8r"
      },
      "execution_count": null,
      "outputs": []
    },
    {
      "cell_type": "markdown",
      "source": [
        "Tokenize the text into sentences:"
      ],
      "metadata": {
        "id": "eJwUhIqraRMK"
      }
    },
    {
      "cell_type": "code",
      "source": [
        "nltk.download('punkt')\n",
        "sentences = sent_tokenize(text)"
      ],
      "metadata": {
        "colab": {
          "base_uri": "https://localhost:8080/"
        },
        "id": "wF3lJd3HaMPA",
        "outputId": "ee702ed0-d55c-4ab6-af55-6daee831e1d5"
      },
      "execution_count": null,
      "outputs": [
        {
          "output_type": "stream",
          "name": "stderr",
          "text": [
            "[nltk_data] Downloading package punkt to /root/nltk_data...\n",
            "[nltk_data]   Package punkt is already up-to-date!\n"
          ]
        }
      ]
    },
    {
      "cell_type": "code",
      "source": [
        "!wget http://nlp.stanford.edu/data/glove.6B.zip"
      ],
      "metadata": {
        "id": "5DH9jRUGj1La",
        "colab": {
          "base_uri": "https://localhost:8080/"
        },
        "outputId": "5859b468-d1b3-436b-f29e-44601cee4fe9"
      },
      "execution_count": null,
      "outputs": [
        {
          "output_type": "stream",
          "name": "stdout",
          "text": [
            "--2023-03-02 19:54:44--  http://nlp.stanford.edu/data/glove.6B.zip\n",
            "Resolving nlp.stanford.edu (nlp.stanford.edu)... 171.64.67.140\n",
            "Connecting to nlp.stanford.edu (nlp.stanford.edu)|171.64.67.140|:80... connected.\n",
            "HTTP request sent, awaiting response... 302 Found\n",
            "Location: https://nlp.stanford.edu/data/glove.6B.zip [following]\n",
            "--2023-03-02 19:54:45--  https://nlp.stanford.edu/data/glove.6B.zip\n",
            "Connecting to nlp.stanford.edu (nlp.stanford.edu)|171.64.67.140|:443... connected.\n",
            "HTTP request sent, awaiting response... 301 Moved Permanently\n",
            "Location: https://downloads.cs.stanford.edu/nlp/data/glove.6B.zip [following]\n",
            "--2023-03-02 19:54:45--  https://downloads.cs.stanford.edu/nlp/data/glove.6B.zip\n",
            "Resolving downloads.cs.stanford.edu (downloads.cs.stanford.edu)... 171.64.64.22\n",
            "Connecting to downloads.cs.stanford.edu (downloads.cs.stanford.edu)|171.64.64.22|:443... connected.\n",
            "HTTP request sent, awaiting response... 200 OK\n",
            "Length: 862182613 (822M) [application/zip]\n",
            "Saving to: ‘glove.6B.zip.1’\n",
            "\n",
            "glove.6B.zip.1      100%[===================>] 822.24M  5.03MB/s    in 2m 43s  \n",
            "\n",
            "2023-03-02 19:57:28 (5.06 MB/s) - ‘glove.6B.zip.1’ saved [862182613/862182613]\n",
            "\n"
          ]
        }
      ]
    },
    {
      "cell_type": "code",
      "source": [
        "!unzip glove*.zip"
      ],
      "metadata": {
        "colab": {
          "base_uri": "https://localhost:8080/"
        },
        "id": "9edQPjdglQO6",
        "outputId": "2fa6c28d-19a3-4c89-877f-ca44215ed1e5"
      },
      "execution_count": null,
      "outputs": [
        {
          "output_type": "stream",
          "name": "stdout",
          "text": [
            "Archive:  glove.6B.zip\n",
            "replace glove.6B.50d.txt? [y]es, [n]o, [A]ll, [N]one, [r]ename: y\n",
            "  inflating: glove.6B.50d.txt        \n",
            "replace glove.6B.100d.txt? [y]es, [n]o, [A]ll, [N]one, [r]ename: y\n",
            "  inflating: glove.6B.100d.txt       \n",
            "replace glove.6B.200d.txt? [y]es, [n]o, [A]ll, [N]one, [r]ename: y\n",
            "  inflating: glove.6B.200d.txt       y\n",
            "\n",
            "replace glove.6B.300d.txt? [y]es, [n]o, [A]ll, [N]one, [r]ename:   inflating: glove.6B.300d.txt       y\n",
            "\n"
          ]
        }
      ]
    },
    {
      "cell_type": "code",
      "source": [
        "import numpy as np"
      ],
      "metadata": {
        "id": "jMYBBF3_mvfh"
      },
      "execution_count": null,
      "outputs": []
    },
    {
      "cell_type": "code",
      "source": [
        "#Extract word vectors\n",
        "word_embeddings = {}\n",
        "f = open('glove.6B.100d.txt',encoding = 'utf-8')\n",
        "for line in f:\n",
        "  values = line.split()\n",
        "  word = values[0]\n",
        "  coefs = np.asarray(values[1:],dtype = 'float32')\n",
        "  word_embeddings[word] = coefs\n",
        "f.close()"
      ],
      "metadata": {
        "id": "Fw7NnixMlsmi"
      },
      "execution_count": null,
      "outputs": []
    },
    {
      "cell_type": "markdown",
      "source": [
        "Preprocess the text by removing stop words, punctuation, and converting words to their base form:"
      ],
      "metadata": {
        "id": "D2Ew5g_Ya4Rl"
      }
    },
    {
      "cell_type": "code",
      "source": [
        "nltk.download('omw-1.4')\n",
        "nltk.download('stopwords')\n",
        "stop_words = set(stopwords.words('english') + list(punctuation))\n",
        "lemmatizer = WordNetLemmatizer()\n",
        "\n",
        "def preprocess(sentence):\n",
        "    words = word_tokenize(sentence.lower())\n",
        "    words = [lemmatizer.lemmatize(word) for word in words if word not in stop_words]\n",
        "    return words\n",
        "\n",
        "processed_sentences = [preprocess(sentence) for sentence in sentences]"
      ],
      "metadata": {
        "colab": {
          "base_uri": "https://localhost:8080/"
        },
        "id": "Z9vUqH4VaiSM",
        "outputId": "b6115eb3-b242-454e-8c18-814b41051920"
      },
      "execution_count": null,
      "outputs": [
        {
          "output_type": "stream",
          "name": "stderr",
          "text": [
            "[nltk_data] Downloading package omw-1.4 to /root/nltk_data...\n",
            "[nltk_data]   Package omw-1.4 is already up-to-date!\n",
            "[nltk_data] Downloading package stopwords to /root/nltk_data...\n",
            "[nltk_data]   Package stopwords is already up-to-date!\n"
          ]
        }
      ]
    },
    {
      "cell_type": "code",
      "source": [
        "processed_sentences"
      ],
      "metadata": {
        "colab": {
          "base_uri": "https://localhost:8080/"
        },
        "id": "_A388a32nZaG",
        "outputId": "325ea0ba-e708-49e7-c547-b2524f552583"
      },
      "execution_count": null,
      "outputs": [
        {
          "output_type": "execute_result",
          "data": {
            "text/plain": [
              "[['cyclone',\n",
              "  'dumazile',\n",
              "  'strong',\n",
              "  'tropical',\n",
              "  'cyclone',\n",
              "  'south-west',\n",
              "  'indian',\n",
              "  'ocean',\n",
              "  'affected',\n",
              "  'madagascar',\n",
              "  'réunion',\n",
              "  'early',\n",
              "  'march',\n",
              "  '2018'],\n",
              " ['dumazile',\n",
              "  'originated',\n",
              "  'low-pressure',\n",
              "  'area',\n",
              "  'formed',\n",
              "  'near',\n",
              "  'agaléga',\n",
              "  '27',\n",
              "  'february'],\n",
              " ['became',\n",
              "  'tropical',\n",
              "  'disturbance',\n",
              "  '2',\n",
              "  'march',\n",
              "  'named',\n",
              "  'next',\n",
              "  'day',\n",
              "  'attaining',\n",
              "  'tropical',\n",
              "  'storm',\n",
              "  'status'],\n",
              " ['dumazile',\n",
              "  'reached',\n",
              "  'peak',\n",
              "  'intensity',\n",
              "  '5',\n",
              "  'march',\n",
              "  '10-minute',\n",
              "  'sustained',\n",
              "  'wind',\n",
              "  '165',\n",
              "  'km/h',\n",
              "  '105',\n",
              "  'mph',\n",
              "  '1-minute',\n",
              "  'sustained',\n",
              "  'wind',\n",
              "  '205',\n",
              "  'km/h',\n",
              "  '125',\n",
              "  'mph',\n",
              "  'central',\n",
              "  'atmospheric',\n",
              "  'pressure',\n",
              "  '945',\n",
              "  'hpa',\n",
              "  '27.91',\n",
              "  'inhg'],\n",
              " ['tracked',\n",
              "  'southeastward',\n",
              "  'dumazile',\n",
              "  'weakened',\n",
              "  'steadily',\n",
              "  'next',\n",
              "  'couple',\n",
              "  'day',\n",
              "  'due',\n",
              "  'wind',\n",
              "  'shear',\n",
              "  'became',\n",
              "  'post-tropical',\n",
              "  'cyclone',\n",
              "  '7',\n",
              "  'march',\n",
              "  'completely',\n",
              "  'dissipating',\n",
              "  '10',\n",
              "  'march'],\n",
              " ['dumazile',\n",
              "  'dropped',\n",
              "  'torrential',\n",
              "  'rainfall',\n",
              "  'réunion',\n",
              "  'madagascar—reaching',\n",
              "  '1,600',\n",
              "  'mm',\n",
              "  '63',\n",
              "  'salazie',\n",
              "  '210',\n",
              "  'mm',\n",
              "  '8.3',\n",
              "  'northeastern',\n",
              "  'madagascar—causing',\n",
              "  'widespread',\n",
              "  'flooding',\n",
              "  'damaging',\n",
              "  'crop',\n",
              "  'infrastructure'],\n",
              " ['two', 'death', 'caused', 'dumazile', 'madagascar']]"
            ]
          },
          "metadata": {},
          "execution_count": 10
        }
      ]
    },
    {
      "cell_type": "code",
      "source": [
        "#vectorize sentences\n",
        "sentence_vectors = []\n",
        "for i in processed_sentences:\n",
        "  if len(i) != 0:\n",
        "    v = sum([word_embeddings.get(w,np.zeros((100,))) for w in i])/(len(i)+0.001)\n",
        "  else:\n",
        "    v = np.zeros((100,))\n",
        "  sentence_vectors.append(v)"
      ],
      "metadata": {
        "id": "ybNpC1B1oZh5"
      },
      "execution_count": null,
      "outputs": []
    },
    {
      "cell_type": "code",
      "source": [
        "len(sentence_vectors)"
      ],
      "metadata": {
        "colab": {
          "base_uri": "https://localhost:8080/"
        },
        "id": "jcK4oroa2edx",
        "outputId": "e345ea4d-28f4-4dd4-d338-eb48cae768eb"
      },
      "execution_count": null,
      "outputs": [
        {
          "output_type": "execute_result",
          "data": {
            "text/plain": [
              "7"
            ]
          },
          "metadata": {},
          "execution_count": 12
        }
      ]
    },
    {
      "cell_type": "code",
      "source": [
        "# similarity matrix\n",
        "sim_mat = np.zeros([len(sentences),len(sentences)])"
      ],
      "metadata": {
        "id": "q00cb0qcxLo7"
      },
      "execution_count": null,
      "outputs": []
    },
    {
      "cell_type": "code",
      "source": [
        "from sklearn.metrics.pairwise import cosine_similarity"
      ],
      "metadata": {
        "id": "CIqZ0BOFxcnp"
      },
      "execution_count": null,
      "outputs": []
    },
    {
      "cell_type": "code",
      "source": [
        "for i in range(len(sentences)):\n",
        "  for j in range(len(sentences)):\n",
        "    if i!=j:\n",
        "      sim_mat[i][j] = cosine_similarity(sentence_vectors[i].reshape(1,100),sentence_vectors[j].reshape(1,100))[0,0]\n"
      ],
      "metadata": {
        "id": "2RUNDqzExwIt"
      },
      "execution_count": null,
      "outputs": []
    },
    {
      "cell_type": "code",
      "source": [
        "!pip install scipy==1.8.0 \n",
        "!pip install networkx==2.6"
      ],
      "metadata": {
        "id": "VR4IXxq26sm7"
      },
      "execution_count": null,
      "outputs": []
    },
    {
      "cell_type": "code",
      "source": [
        "#Creating a graph\n",
        "import networkx as nx\n",
        "import matplotlib.pyplot as plt"
      ],
      "metadata": {
        "id": "Zvab1qAyy6vr"
      },
      "execution_count": null,
      "outputs": []
    },
    {
      "cell_type": "code",
      "source": [
        "nx_graph = nx.from_numpy_array(sim_mat)\n",
        "pos = nx.spring_layout(nx_graph)\n",
        "nx.draw(nx_graph, pos, with_labels=True)\n",
        "plt.show()"
      ],
      "metadata": {
        "id": "Gxk8fob23Nl7",
        "colab": {
          "base_uri": "https://localhost:8080/",
          "height": 319
        },
        "outputId": "1ca3b707-3037-4dcb-ec36-7f49a95a5860"
      },
      "execution_count": null,
      "outputs": [
        {
          "output_type": "display_data",
          "data": {
            "text/plain": [
              "<Figure size 432x288 with 1 Axes>"
            ],
            "image/png": "[encoded data removed]"
          },
          "metadata": {}
        }
      ]
    },
    {
      "cell_type": "code",
      "source": [
        "scores = nx.pagerank(nx_graph)"
      ],
      "metadata": {
        "id": "GnJhVWmm3xG1"
      },
      "execution_count": null,
      "outputs": []
    },
    {
      "cell_type": "code",
      "source": [
        "scores"
      ],
      "metadata": {
        "colab": {
          "base_uri": "https://localhost:8080/"
        },
        "id": "AyXlk5VJ6dno",
        "outputId": "8a7e7590-2591-4b42-ab3d-65c87554603b"
      },
      "execution_count": null,
      "outputs": [
        {
          "output_type": "execute_result",
          "data": {
            "text/plain": [
              "{0: 0.1475922060795174,\n",
              " 1: 0.14128764759213522,\n",
              " 2: 0.152589961156465,\n",
              " 3: 0.12614959775525544,\n",
              " 4: 0.15444867199080023,\n",
              " 5: 0.13938369183187654,\n",
              " 6: 0.13854822359395028}"
            ]
          },
          "metadata": {},
          "execution_count": 22
        }
      ]
    },
    {
      "cell_type": "code",
      "source": [
        "ranked_sentences = sorted(((scores[i],s) for i,s in enumerate(sentences)),reverse=True)"
      ],
      "metadata": {
        "id": "-irvdvjadB6H"
      },
      "execution_count": null,
      "outputs": []
    },
    {
      "cell_type": "code",
      "source": [
        "ranked_sentences"
      ],
      "metadata": {
        "colab": {
          "base_uri": "https://localhost:8080/"
        },
        "id": "2j8b9b3s8BI6",
        "outputId": "b4a9743a-918a-42b2-dee2-a39a4964f94d"
      },
      "execution_count": null,
      "outputs": [
        {
          "output_type": "execute_result",
          "data": {
            "text/plain": [
              "[(0.15444867199080023,\n",
              "  'As it tracked southeastwards, Dumazile weakened steadily over the next couple of days due to wind shear, and became a post-tropical cyclone on 7 March before completely dissipating on 10 March.'),\n",
              " (0.152589961156465,\n",
              "  'It became a tropical disturbance on 2 March, and was named the next day after attaining tropical storm status.'),\n",
              " (0.1475922060795174,\n",
              "  'Cyclone Dumazile was a strong tropical cyclone in the South-West Indian Ocean that affected Madagascar and Réunion in early March 2018.'),\n",
              " (0.14128764759213522,\n",
              "  'Dumazile originated from a low-pressure area that formed near Agaléga on 27 February.'),\n",
              " (0.13938369183187654,\n",
              "  'Dumazile dropped torrential rainfall in Réunion and Madagascar—reaching 1,600 mm (63 in) in Salazie and 210 mm (8.3 in) in northeastern Madagascar—causing widespread flooding and damaging crops and infrastructure.'),\n",
              " (0.13854822359395028,\n",
              "  'Two deaths were caused by Dumazile, both in Madagascar.'),\n",
              " (0.12614959775525544,\n",
              "  'Dumazile reached its peak intensity on 5 March, with 10-minute sustained winds of 165 km/h (105 mph), 1-minute sustained winds of 205 km/h (125 mph), and a central atmospheric pressure of 945 hPa (27.91 inHg).')]"
            ]
          },
          "metadata": {},
          "execution_count": 24
        }
      ]
    },
    {
      "cell_type": "code",
      "source": [
        "for i in range(3):\n",
        "  print(ranked_sentences[i][1])"
      ],
      "metadata": {
        "colab": {
          "base_uri": "https://localhost:8080/"
        },
        "id": "wh2NSLZK7t_p",
        "outputId": "827eb0e8-0676-4f24-89e0-a6163d1793eb"
      },
      "execution_count": null,
      "outputs": [
        {
          "output_type": "stream",
          "name": "stdout",
          "text": [
            "As it tracked southeastwards, Dumazile weakened steadily over the next couple of days due to wind shear, and became a post-tropical cyclone on 7 March before completely dissipating on 10 March.\n",
            "It became a tropical disturbance on 2 March, and was named the next day after attaining tropical storm status.\n",
            "Cyclone Dumazile was a strong tropical cyclone in the South-West Indian Ocean that affected Madagascar and Réunion in early March 2018.\n"
          ]
        }
      ]
    },
    {
      "cell_type": "code",
      "source": [],
      "metadata": {
        "id": "67mNBw7O8KiY"
      },
      "execution_count": null,
      "outputs": []
    }
  ]
}